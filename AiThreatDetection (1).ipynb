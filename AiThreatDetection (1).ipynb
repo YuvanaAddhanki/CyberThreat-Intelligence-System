{
  "nbformat": 4,
  "nbformat_minor": 0,
  "metadata": {
    "colab": {
      "provenance": []
    },
    "kernelspec": {
      "name": "python3",
      "display_name": "Python 3"
    },
    "language_info": {
      "name": "python"
    }
  },
  "cells": [
    {
      "cell_type": "code",
      "execution_count": null,
      "metadata": {
        "id": "BLw6mbJFkjSr"
      },
      "outputs": [],
      "source": [
        "import os\n",
        "import nest_asyncio\n",
        "import uvicorn\n",
        "from fastapi import FastAPI, HTTPException\n",
        "from pydantic import BaseModel\n",
        "import requests\n",
        "from pyngrok import ngrok\n",
        "from dotenv import load_dotenv\n",
        "\n",
        "# Load environment variables\n",
        "load_dotenv()\n",
        "\n",
        "app = FastAPI()\n"
      ]
    },
    {
      "cell_type": "code",
      "source": [
        "class LogRequest(BaseModel):\n",
        "    logs: str\n"
      ],
      "metadata": {
        "id": "izT3zohSk51g"
      },
      "execution_count": null,
      "outputs": []
    },
    {
      "cell_type": "code",
      "source": [
        "def fetch_virustotal(ip):\n",
        "    api_key = os.getenv(\"VIRUSTOTAL_API_KEY\")\n",
        "    url = f\"https://www.virustotal.com/api/v3/ip_addresses/{ip}\"\n",
        "    headers = {\"x-apikey\": api_key}\n",
        "    response = requests.get(url, headers=headers)\n",
        "    return response.json() if response.status_code == 200 else None\n"
      ],
      "metadata": {
        "id": "uqlUVg3Yk8Ak"
      },
      "execution_count": null,
      "outputs": []
    },
    {
      "cell_type": "code",
      "source": [
        "def fetch_shodan(ip):\n",
        "    api_key = os.getenv(\"SHODAN_API_KEY\")\n",
        "    url = f\"https://api.shodan.io/shodan/host/{ip}?key={api_key}\"\n",
        "    response = requests.get(url)\n",
        "    return response.json() if response.status_code == 200 else None\n"
      ],
      "metadata": {
        "id": "F7F2Psz_k976"
      },
      "execution_count": null,
      "outputs": []
    },
    {
      "cell_type": "code",
      "source": [
        "def fetch_intelx(email):\n",
        "    api_key = os.getenv(\"INTELX_API_KEY\")\n",
        "    url = \"https://2.intelx.io/intelligent/search\"\n",
        "    headers = {\"x-key\": api_key}\n",
        "    data = {\"term\": email, \"maxresults\": 5, \"timeout\": 30, \"media\": 0}\n",
        "    response = requests.post(url, json=data, headers=headers)\n",
        "    return response.json() if response.status_code == 200 else None\n"
      ],
      "metadata": {
        "id": "WMtFP-dtlB0t"
      },
      "execution_count": null,
      "outputs": []
    },
    {
      "cell_type": "code",
      "source": [
        "@app.get(\"/\")\n",
        "def home():\n",
        "    return {\"message\": \"FastAPI is running on Google Colab!\"}\n",
        "\n",
        "@app.post(\"/analyze\")\n",
        "def analyze_threats(request: LogRequest):\n",
        "    threats = [\"Ransomware\", \"Phishing\", \"DDoS Attack\"]\n",
        "    detected = [t for t in threats if t.lower() in request.logs.lower()]\n",
        "    return {\"detected_threats\": detected}\n"
      ],
      "metadata": {
        "id": "Q_m5KuQHlDwD"
      },
      "execution_count": null,
      "outputs": []
    },
    {
      "cell_type": "code",
      "source": [
        "@app.get(\"/\")\n",
        "def home():\n",
        "    return {\"message\": \"FastAPI is running on Google Colab!\"}\n",
        "\n",
        "@app.post(\"/analyze\")\n",
        "def analyze_threats(request: LogRequest):\n",
        "    threats = [\"Ransomware\", \"Phishing\", \"DDoS Attack\"]\n",
        "    detected = [t for t in threats if t.lower() in request.logs.lower()]\n",
        "    return {\"detected_threats\": detected}\n"
      ],
      "metadata": {
        "id": "YxDNvSVXlFwA"
      },
      "execution_count": null,
      "outputs": []
    },
    {
      "cell_type": "code",
      "source": [
        "public_url = ngrok.connect(8000)\n",
        "print(f\"Public URL: {public_url}\")\n"
      ],
      "metadata": {
        "id": "YR8US2wslH6B"
      },
      "execution_count": null,
      "outputs": []
    },
    {
      "cell_type": "code",
      "source": [
        "nest_asyncio.apply()\n",
        "uvicorn.run(app, host=\"0.0.0.0\", port=8000)\n"
      ],
      "metadata": {
        "id": "TWNNtJ3hlOR0"
      },
      "execution_count": null,
      "outputs": []
    },
    {
      "cell_type": "code",
      "source": [
        "import time\n",
        "while True:\n",
        "    print(\"Keeping the session alive...\")\n",
        "    time.sleep(600)\n"
      ],
      "metadata": {
        "id": "cxqp7ghrlRHz"
      },
      "execution_count": null,
      "outputs": []
    }
  ]
}